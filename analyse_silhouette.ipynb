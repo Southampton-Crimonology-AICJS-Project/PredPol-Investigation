{
 "cells": [
  {
   "cell_type": "code",
   "execution_count": 1,
   "metadata": {},
   "outputs": [],
   "source": [
    "import numpy as np\n",
    "import matplotlib.pyplot as plt\n",
    "import matplotlib.image as mpimg\n",
    "import subprocess"
   ]
  },
  {
   "cell_type": "code",
   "execution_count": 3,
   "metadata": {},
   "outputs": [],
   "source": [
    "# Load the silhouette data\n",
    "data = np.load(\"stacked_silhouette.npy\")\n",
    "\n",
    "# Load the parameter data this is in the same order as the silhouette data\n",
    "with open (\"ParameterList.txt\", \"r\") as f:\n",
    "    param_list = []\n",
    "    for line in f.readlines():\n",
    "        param_list.append(line[:-1])\n",
    "# format the parameter list correctly\n",
    "temp = []\n",
    "for i in param_list:\n",
    "    temp.append([j.strip()[1:-1] for j in i[1:-1].split(',')])\n",
    "param_list = temp"
   ]
  },
  {
   "cell_type": "code",
   "execution_count": 8,
   "metadata": {},
   "outputs": [],
   "source": [
    "# Test that the loaded silhouette data to check that the paths in maram list are correct\n",
    "path = \"/home/pgrylls/Documents/Scratch/ai_cjs/.__scratch__/figures/\"\n",
    "for i, arr in enumerate(data):\n",
    "    data_single = np.load(path + \"/\".join(param_list[i]) + \"/silhouette_score.npy\")    \n",
    "    if np.all(arr == data_single):\n",
    "        pass\n",
    "    else:\n",
    "        print(data_single)\n",
    "        print(arr)\n",
    "        print(i)\n",
    "        print()"
   ]
  },
  {
   "cell_type": "code",
   "execution_count": 9,
   "metadata": {},
   "outputs": [],
   "source": [
    "# Get the means along the primary axis\n",
    "means = np.mean(data, axis=1)"
   ]
  },
  {
   "cell_type": "code",
   "execution_count": 10,
   "metadata": {},
   "outputs": [],
   "source": [
    "# Function to strip the mess from a subplot\n",
    "def strip_junk(axes_objs):\n",
    "    for j in axes_objs:\n",
    "        for axes_obj in j:\n",
    "            axes_obj.axes.get_xaxis().set_visible(False)\n",
    "            axes_obj.axes.get_yaxis().set_visible(False)\n",
    "            axes_obj.set_frame_on(False)"
   ]
  },
  {
   "cell_type": "code",
   "execution_count": 11,
   "metadata": {},
   "outputs": [],
   "source": [
    "# Make thumbnail plots and copy plots over to ranked folders\n",
    "for i, ix in enumerate(np.argsort(means)[::-1]):\n",
    "    img_path = \"/home/pgrylls/Documents/Scratch/ai_cjs/.__scratch__/figures/\" + \"/\".join(param_list[ix])\n",
    "    fig, axes = plt.subplots(2,2)\n",
    "    try:\n",
    "        img1 = mpimg.imread(img_path + \"/kmean_cluster_01_2.png\")\n",
    "        img2 = mpimg.imread(img_path + \"/kmean_cluster_48_2.png\")\n",
    "        img3 = mpimg.imread(img_path + \"/correlation_48.png\")\n",
    "        img4 = mpimg.imread(img_path + \"/silhouette_score.png\")\n",
    "        axes[0,0].imshow(img1)\n",
    "        axes[0,1].imshow(img2)\n",
    "        axes[1,0].imshow(img3)\n",
    "        axes[1,1].imshow(img4)\n",
    "        strip_junk(axes)\n",
    "        title_len = len(param_list[ix])//2\n",
    "        axes[0,0].set_title(param_list[ix][:title_len])\n",
    "        axes[1,0].set_title(param_list[ix][title_len:])\n",
    "        plt.savefig(\"/home/pgrylls/Documents/Scratch/used_in _paper/analyse_sil_out/\"+str(i))\n",
    "        plt.clf()\n",
    "        plt.close()\n",
    "        out_path = \"/home/pgrylls/Documents/Scratch/used_in _paper/analyse_sil_out/{}_{:2f}\".format(i, means[ix])\n",
    "        subprocess.call([\"mkdir\", \"-p\", out_path])\n",
    "        subprocess.call([\"cp\", img_path + \"/kmean_cluster_01_2.png\", out_path])\n",
    "        subprocess.call([\"cp\", img_path + \"/kmean_cluster_48_2.png\", out_path])\n",
    "        subprocess.call([\"cp\", img_path + \"/correlation_48.png\", out_path])\n",
    "        subprocess.call([\"cp\", img_path + \"/silhouette_score.png\", out_path])\n",
    "    except Exception as e:\n",
    "        print(i)\n",
    "        print(e)\n",
    "        continue"
   ]
  }
 ],
 "metadata": {
  "kernelspec": {
   "display_name": "AI-CJS",
   "language": "python",
   "name": "ai-cjs"
  },
  "language_info": {
   "codemirror_mode": {
    "name": "ipython",
    "version": 3
   },
   "file_extension": ".py",
   "mimetype": "text/x-python",
   "name": "python",
   "nbconvert_exporter": "python",
   "pygments_lexer": "ipython3",
   "version": "3.7.6"
  }
 },
 "nbformat": 4,
 "nbformat_minor": 2
}
